{
 "cells": [
  {
   "cell_type": "code",
   "execution_count": null,
   "metadata": {},
   "outputs": [],
   "source": [
    "import glob, re, os, json\n",
    "from pyld import jsonld"
   ]
  },
  {
   "cell_type": "code",
   "execution_count": null,
   "metadata": {},
   "outputs": [
    {
     "name": "stdout",
     "output_type": "stream",
     "text": [
      "404.html\n",
      "\u001b[31mREADME.md\u001b[m\u001b[m*\n",
      "\u001b[34mTables\u001b[m\u001b[m/\n",
      "\u001b[34massets\u001b[m\u001b[m/\n",
      "\u001b[34mdata_desciptors\u001b[m\u001b[m/\n",
      "\u001b[34msrc-data\u001b[m\u001b[m/\n",
      "\u001b[34mdemo\u001b[m\u001b[m/\n",
      "\u001b[34minputs\u001b[m\u001b[m/\n",
      "obs4MIPs_frequency.json\n",
      "obs4MIPs_grid_label.json\n",
      "obs4MIPs_institution_id.json\n",
      "obs4MIPs_license.json\n",
      "obs4MIPs_nominal_resolution.json\n",
      "obs4MIPs_product.json\n",
      "obs4MIPs_realm.json\n",
      "obs4MIPs_region.json\n",
      "obs4MIPs_required_global_attributes.json\n",
      "obs4MIPs_source_id.json\n",
      "obs4MIPs_source_type.json\n",
      "obs4MIPs_table_id.json\n",
      "\u001b[34msrc\u001b[m\u001b[m/\n"
     ]
    },
    {
     "ename": "",
     "evalue": "",
     "output_type": "error",
     "traceback": [
      "\u001b[1;31mThe Kernel crashed while executing code in the current cell or a previous cell. \n",
      "\u001b[1;31mPlease review the code in the cell(s) to identify a possible cause of the failure. \n",
      "\u001b[1;31mClick <a href='https://aka.ms/vscodeJupyterKernelCrash'>here</a> for more info. \n",
      "\u001b[1;31mView Jupyter <a href='command:jupyter.viewOutput'>log</a> for further details."
     ]
    }
   ],
   "source": [
    "ls ../\n"
   ]
  },
  {
   "cell_type": "code",
   "execution_count": null,
   "metadata": {},
   "outputs": [],
   "source": [
    "# # source_type\n",
    "# data = json.load(open('../obs4MIPs_source_type.json'))['source_type']\n",
    "\n",
    "# for k,v in data.items():\n",
    "#     print(k)\n",
    "#     content = {\n",
    "#         \"@context\": \"_context_\",\n",
    "#         \"description\": v,\n",
    "#         \"id\": k.lower(),\n",
    "#         \"name\": k,\n",
    "#         \"type\": \"source_type\"\n",
    "#     }\n",
    "    \n",
    "#     json.dump(content, open(f'../../WCRP-universe/src-data/source_type/{k.lower()}.json','w'), indent=4)"
   ]
  },
  {
   "cell_type": "code",
   "execution_count": null,
   "metadata": {},
   "outputs": [],
   "source": [
    "# # source\n",
    "# base = '../data_desciptors/source/'\n",
    "# os.system(f'mkdir -p {base}')\n",
    "\n",
    "# data = json.load(open('../obs4MIPs_source_id.json'))['source_id']\n",
    "\n",
    "# for k,v in data.items():\n",
    "#     print(v)\n",
    "#     v['id'] = k.lower()\n",
    "#     v['type'] = 'source'\n",
    "#     v['@context'] = '_context_'\n",
    "#     v['organisation'] = v['institution_id'].lower()\n",
    "#     del v['institution_id']\n",
    "#     v['source_type'] = v['source_type'].lower()\n",
    "#     v['description'] = v['source_description']\n",
    "#     v['activity-participation'] = 'obs4mips'\n",
    "#     del v['source_description']\n",
    "    \n",
    "#     json.dump(v, open(f'{base}/{k.lower()}.json','w'), indent=4)"
   ]
  },
  {
   "cell_type": "code",
   "execution_count": null,
   "metadata": {},
   "outputs": [],
   "source": [
    "# # tables and variables\n",
    "# tables = glob.glob('../Tables/*.json')[1:]\n",
    "# tables\n",
    "\n",
    "# print(tables)\n",
    "\n",
    "# skip = False\n",
    "# # tbl = tables[0]\n",
    "# for tbl in tables:\n",
    "#     for c in ['formula','coordinates','grids']: \n",
    "#         if c in tbl:\n",
    "#             skip = True\n",
    "#     if skip:continue\n",
    "#     print(tbl)\n",
    "#     data = json.load(open(tbl,'r'))\n",
    "\n",
    "#     t = data['Header']\n",
    "#     t['id'] = t['table_id'].lower().split('_')[-1]\n",
    "#     t['type'] = 'mip_table'\n",
    "#     t['@context'] = '_context_'\n",
    "#     t['product'] = ['observations']\n",
    "\n",
    "#     tpath = f'../../MIP-variables/src-data/tables/{t[\"id\"].lower()}.json'\n",
    "#     if os.path.exists(tpath):\n",
    "#         print(f'{tpath} exists',t['id'])\n",
    "#         data2 = json.load(open(tpath,'r'))\n",
    "#         data2['product'].extend(t['product'])\n",
    "#         json.dump(data2, open(tpath,'w'), indent=4)\n",
    "#     else:\n",
    "#         json.dump(t, open(tpath,'w'), indent=4)\n",
    "\n",
    "#     for vi,v in data['variable_entry'].items():\n",
    "#         v['id'] = vi.lower()\n",
    "#         v['type'] = 'mip-variable'\n",
    "#         v['@context'] = '_context_'\n",
    "#         v[\"mip_tables\"]= [\n",
    "#             {\n",
    "#                 \"@id\": t['id'],\n",
    "#                 \"mip-era\": \"obs4mips\"\n",
    "#             }\n",
    "#         ]\n",
    "#         v['themes'] = ['TBC']\n",
    "#         v[\"modeling_realm\"]= [v[\"modeling_realm\"].lower()]\n",
    "        \n",
    "#         vpath = f'../../MIP-variables/src-data/variables/{t[\"id\"]}.{v[\"id\"]}.json'\n",
    "#         if os.path.exists(vpath):\n",
    "#             print(f'{vpath} exists',v['id'])\n",
    "#             data2 = json.load(open(vpath,'r'))\n",
    "#             if 'mip_tables' not in data2:\n",
    "#                 data2['mip_tables']= []\n",
    "#             data2['mip_tables'].extend(v[\"mip_tables\"])\n",
    "#             json.dump(data2, open(vpath,'w'), indent=4)\n",
    "#         else:\n",
    "#             json.dump(v, open(vpath,'w'), indent=4)"
   ]
  },
  {
   "cell_type": "code",
   "execution_count": null,
   "metadata": {},
   "outputs": [],
   "source": []
  },
  {
   "cell_type": "code",
   "execution_count": null,
   "metadata": {},
   "outputs": [],
   "source": []
  }
 ],
 "metadata": {
  "kernelspec": {
   "display_name": "base",
   "language": "python",
   "name": "python3"
  },
  "language_info": {
   "codemirror_mode": {
    "name": "ipython",
    "version": 3
   },
   "file_extension": ".py",
   "mimetype": "text/x-python",
   "name": "python",
   "nbconvert_exporter": "python",
   "pygments_lexer": "ipython3",
   "version": "3.10.10"
  }
 },
 "nbformat": 4,
 "nbformat_minor": 2
}
